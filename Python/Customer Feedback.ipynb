{
 "cells": [
  {
   "cell_type": "code",
   "execution_count": 13,
   "id": "968cdb46-0a2a-4e29-adf1-c0146ff8ae3e",
   "metadata": {},
   "outputs": [
    {
     "name": "stdout",
     "output_type": "stream",
     "text": [
      "                                              Comments  \\\n",
      "0    The product quality is excellent, I am very sa...   \n",
      "1    Customer service was good, but there was a sli...   \n",
      "2    Delivery took longer than expected, but arrive...   \n",
      "3    Good product quality, but there’s room for imp...   \n",
      "4          Customer service was not responsive enough.   \n",
      "..                                                 ...   \n",
      "115              Service was good but not outstanding.   \n",
      "116             Delivery was average, no major issues.   \n",
      "117  Satisfied with the product, but there’s room f...   \n",
      "118           Customer service was not helpful at all.   \n",
      "119  The delivery was quick and the product arrived...   \n",
      "\n",
      "                                 cleaned_feedback  \n",
      "0             product quality excellent satisfied  \n",
      "1              customer service good slight delay  \n",
      "2    delivery took longer expected arrived safely  \n",
      "3     good product quality there room improvement  \n",
      "4              customer service responsive enough  \n",
      "..                                            ...  \n",
      "115                      service good outstanding  \n",
      "116                  delivery average major issue  \n",
      "117      satisfied product there room improvement  \n",
      "118                      customer service helpful  \n",
      "119      delivery quick product arrived perfectly  \n",
      "\n",
      "[120 rows x 2 columns]\n"
     ]
    }
   ],
   "source": [
    "import pandas as pd\n",
    "import re\n",
    "from sqlalchemy import create_engine\n",
    "import nltk\n",
    "from nltk.corpus import stopwords\n",
    "from nltk.stem import WordNetLemmatizer\n",
    "\n",
    "# Download necessary NLTK resources\n",
    "# nltk.download('stopwords')\n",
    "# nltk.download('wordnet')\n",
    "# nltk.download('omw-1.4')\n",
    "\n",
    "source_db_connection_string = 'mssql+pyodbc://@DESKTOP-QHDNCIS\\SQLEXPRESS/customers?driver=ODBC+Driver+17+for+SQL+Server&trusted_connection=yes'\n",
    "\n",
    "target_db_connection_string = 'mssql+pyodbc://@./customers?driver=ODBC+Driver+17+for+SQL+Server&trusted_connection=yes'\n",
    "\n",
    "# Extract data from source database\n",
    "def extract_data(query):\n",
    "    source_engine = create_engine(source_db_connection_string)\n",
    "    data = pd.read_sql(query, source_engine)\n",
    "    return data\n",
    "\n",
    "# SQL query to extract feedback data\n",
    "query = \"SELECT * FROM Feedback\"\n",
    "data = extract_data(query)\n",
    "\n",
    "#Data Cleaning and Transformation including Text Preprocessing\n",
    "def transform_data(data):\n",
    "    # remove duplicates\n",
    "    data.drop_duplicates(inplace=True)\n",
    "    \n",
    "    # Convert 'date' column to datetime\n",
    "    if 'date' in data.columns:\n",
    "        data['date'] = pd.to_datetime(data['date'], errors='coerce')\n",
    "    \n",
    "    # Remove rows with null values in important columns\n",
    "    data.dropna(subset=['Comments', 'Rating'], inplace=True)\n",
    "    \n",
    "    # Create a new column that calculates the length of the feedback text\n",
    "    data['feedback_length'] = data['Comments'].apply(lambda x: len(str(x)))\n",
    "\n",
    "    # Initialize the NLTK stopwords list and lemmatizer\n",
    "    stop_words = set(stopwords.words('english'))\n",
    "    lemmatizer = WordNetLemmatizer()\n",
    "\n",
    "    # Text Preprocessing\n",
    "    def preprocess_text(text):\n",
    "        # 1. Lowercase the text\n",
    "        text = str(text).lower()\n",
    "        \n",
    "        # 2. Remove special characters and numbers\n",
    "        text = re.sub(r'[^\\w\\s]', '', text)\n",
    "        \n",
    "        # 3. Tokenize the text into words\n",
    "        words = text.split()\n",
    "        \n",
    "        # 4. Remove stopwords\n",
    "        words = [word for word in words if word not in stop_words]\n",
    "        \n",
    "        # 5. Lemmatize each word\n",
    "        words = [lemmatizer.lemmatize(word) for word in words]\n",
    "        \n",
    "        # 6. Rejoin the words into a cleaned string\n",
    "        return ' '.join(words)\n",
    "\n",
    "    # Apply the text preprocessing function to the 'feedback' column\n",
    "    data['cleaned_feedback'] = data['Comments'].apply(preprocess_text)\n",
    "    \n",
    "    return data\n",
    "\n",
    "\n",
    "# Apply the transformation to the  data\n",
    "transformed_data = transform_data(data)\n",
    "\n",
    "# Preview the transformed data\n",
    "print(transformed_data[['Comments', 'cleaned_feedback']])\n"
   ]
  },
  {
   "cell_type": "code",
   "execution_count": 1,
   "id": "a409d284-9595-4af6-975a-f8a0ebb1d918",
   "metadata": {},
   "outputs": [
    {
     "ename": "NameError",
     "evalue": "name 'transformed_data' is not defined",
     "output_type": "error",
     "traceback": [
      "\u001b[1;31m---------------------------------------------------------------------------\u001b[0m",
      "\u001b[1;31mNameError\u001b[0m                                 Traceback (most recent call last)",
      "Cell \u001b[1;32mIn[1], line 9\u001b[0m\n\u001b[0;32m      6\u001b[0m     \u001b[38;5;28;01melse\u001b[39;00m:\n\u001b[0;32m      7\u001b[0m         \u001b[38;5;28;01mreturn\u001b[39;00m \u001b[38;5;124m'\u001b[39m\u001b[38;5;124mNegative\u001b[39m\u001b[38;5;124m'\u001b[39m\n\u001b[1;32m----> 9\u001b[0m transformed_data[\u001b[38;5;124m'\u001b[39m\u001b[38;5;124mSentiment\u001b[39m\u001b[38;5;124m'\u001b[39m] \u001b[38;5;241m=\u001b[39m \u001b[43mtransformed_data\u001b[49m\u001b[38;5;241m.\u001b[39mapply(label_sentiment, axis\u001b[38;5;241m=\u001b[39m\u001b[38;5;241m1\u001b[39m)\n\u001b[0;32m     10\u001b[0m \u001b[38;5;28mprint\u001b[39m(transformed_data[\u001b[38;5;124m'\u001b[39m\u001b[38;5;124mSentiment\u001b[39m\u001b[38;5;124m'\u001b[39m]\u001b[38;5;241m.\u001b[39mvalue_counts())\u001b[38;5;66;03m#check number of each type\u001b[39;00m\n",
      "\u001b[1;31mNameError\u001b[0m: name 'transformed_data' is not defined"
     ]
    }
   ],
   "source": [
    "def label_sentiment(row):\n",
    "    if row['Rating'] >= 4:\n",
    "        return 'Positive'\n",
    "    elif row['Rating'] == 3:\n",
    "        return 'Neutral'\n",
    "    else:\n",
    "        return 'Negative'\n",
    "\n",
    "transformed_data['Sentiment'] = transformed_data.apply(label_sentiment, axis=1)\n",
    "print(transformed_data['Sentiment'].value_counts())#check number of each type\n"
   ]
  },
  {
   "cell_type": "code",
   "execution_count": 3,
   "id": "6d6d3205-6477-4981-8ce6-07a2afecf6d2",
   "metadata": {},
   "outputs": [],
   "source": [
    "from sklearn.model_selection import train_test_split\n",
    "\n",
    "X = transformed_data['cleaned_feedback']  \n",
    "y = transformed_data['Sentiment'] \n",
    "X_train, X_test, y_train, y_test = train_test_split(X, y, test_size=0.2, random_state=42)\n"
   ]
  },
  {
   "cell_type": "code",
   "execution_count": 4,
   "id": "3158cab0-e387-47d7-924c-38684289f78a",
   "metadata": {},
   "outputs": [],
   "source": [
    "from sklearn.feature_extraction.text import TfidfVectorizer\n",
    "\n",
    "vectorizer = TfidfVectorizer(max_features=5000) #transform text to numbers\n",
    "\n",
    "X_train_tfidf = vectorizer.fit_transform(X_train)\n",
    "X_test_tfidf = vectorizer.transform(X_test)\n"
   ]
  },
  {
   "cell_type": "code",
   "execution_count": 6,
   "id": "67679085-40f2-4672-8537-659148e4287c",
   "metadata": {},
   "outputs": [
    {
     "name": "stdout",
     "output_type": "stream",
     "text": [
      "Accuracy: 0.7916666666666666\n"
     ]
    }
   ],
   "source": [
    "from sklearn.linear_model import LogisticRegression\n",
    "from sklearn.naive_bayes import MultinomialNB\n",
    "from sklearn.svm import SVC\n",
    "from sklearn.ensemble import RandomForestClassifier\n",
    "from sklearn.metrics import accuracy_score\n",
    "\n",
    "# Logistic Regression model\n",
    "model1 = LogisticRegression()\n",
    "model1.fit(X_train_tfidf, y_train)\n",
    "\n",
    "# Make predictions\n",
    "y_pred = model1.predict(X_test_tfidf)\n",
    "\n",
    "print(\"Accuracy:\", accuracy_score(y_test, y_pred))#evalute the model"
   ]
  },
  {
   "cell_type": "code",
   "execution_count": 7,
   "id": "08752ede-29db-4e09-acc9-a8d0ae65ea84",
   "metadata": {},
   "outputs": [
    {
     "name": "stdout",
     "output_type": "stream",
     "text": [
      "Accuracy: 0.75\n"
     ]
    }
   ],
   "source": [
    "#Naive Bayes Model\n",
    "nb_model = MultinomialNB()\n",
    "nb_model.fit(X_train_tfidf, y_train)\n",
    "y_pred_nb = nb_model.predict(X_test_tfidf)\n",
    "print(\"Accuracy:\", accuracy_score(y_test, y_pred_nb))"
   ]
  },
  {
   "cell_type": "code",
   "execution_count": 8,
   "id": "450e4d66-0fba-4187-938e-484dd9dea9ba",
   "metadata": {},
   "outputs": [
    {
     "name": "stdout",
     "output_type": "stream",
     "text": [
      "Accuracy: 0.8333333333333334\n"
     ]
    }
   ],
   "source": [
    "# SVM Model\n",
    "svm_model = SVC()\n",
    "svm_model.fit(X_train_tfidf, y_train)\n",
    "y_pred_svm = svm_model.predict(X_test_tfidf)\n",
    "print(\"Accuracy:\", accuracy_score(y_test, y_pred_svm))"
   ]
  },
  {
   "cell_type": "code",
   "execution_count": 9,
   "id": "e6fea4bb-4edf-48d1-9fbb-acf2bac66f75",
   "metadata": {},
   "outputs": [
    {
     "name": "stdout",
     "output_type": "stream",
     "text": [
      "Accuracy: 0.75\n"
     ]
    }
   ],
   "source": [
    "# Random Forest Model\n",
    "rf_model = RandomForestClassifier()\n",
    "rf_model.fit(X_train_tfidf, y_train)\n",
    "y_pred_rf = rf_model.predict(X_test_tfidf)\n",
    "print(\"Accuracy:\", accuracy_score(y_test, y_pred_rf))"
   ]
  },
  {
   "cell_type": "code",
   "execution_count": 11,
   "id": "14c438dc-cde5-4ef9-a4b7-477abedf17b7",
   "metadata": {},
   "outputs": [
    {
     "data": {
      "image/png": "[encoded data removed]",
      "text/plain": [
       "<Figure size 1000x600 with 1 Axes>"
      ]
     },
     "metadata": {},
     "output_type": "display_data"
    }
   ],
   "source": [
    "import matplotlib.pyplot as plt\n",
    "import numpy as np\n",
    "import pandas as pd\n",
    "import seaborn as sns\n",
    "\n",
    "# Model Performance Metrics Data\n",
    "from sklearn.metrics import accuracy_score, precision_score, recall_score, f1_score\n",
    "\n",
    "# Model Performance Metrics Data\n",
    "data = {\n",
    "    'Model': ['Logistic Regression', 'Naive Bayes', 'SVM', 'Random Forest'],\n",
    "    'Accuracy': [\n",
    "        accuracy_score(y_test, y_pred), \n",
    "        accuracy_score(y_test, y_pred_nb), \n",
    "        accuracy_score(y_test, y_pred_svm), \n",
    "        accuracy_score(y_test, y_pred_rf)\n",
    "    ],\n",
    "    'Precision': [\n",
    "        precision_score(y_test, y_pred, average='weighted'), \n",
    "        precision_score(y_test, y_pred_nb, average='weighted'),\n",
    "        precision_score(y_test, y_pred_svm, average='weighted'), \n",
    "        precision_score(y_test, y_pred_rf, average='weighted')\n",
    "    ],\n",
    "    'Recall': [\n",
    "        recall_score(y_test, y_pred, average='weighted'),\n",
    "        recall_score(y_test, y_pred_nb, average='weighted'), \n",
    "        recall_score(y_test, y_pred_svm, average='weighted'), \n",
    "        recall_score(y_test, y_pred_rf, average='weighted')\n",
    "    ],\n",
    "    'F1-Score': [\n",
    "        f1_score(y_test, y_pred, average='weighted'),\n",
    "        f1_score(y_test, y_pred_nb, average='weighted'), \n",
    "        f1_score(y_test, y_pred_svm, average='weighted'), \n",
    "        f1_score(y_test, y_pred_rf, average='weighted')\n",
    "    ]\n",
    "}\n",
    "\n",
    "df = pd.DataFrame(data)\n",
    "\n",
    "\n",
    "metrics = ['Accuracy', 'Precision', 'Recall', 'F1-Score']\n",
    "x = np.arange(len(metrics))  \n",
    "width = 0.2  \n",
    "\n",
    "fig, ax = plt.subplots(figsize=(10, 6))\n",
    "\n",
    "for i, model in enumerate(df['Model']):\n",
    "    ax.bar(x + i*width, df.loc[i, metrics], width, label=model)\n",
    "\n",
    "\n",
    "ax.set_xlabel('Metrics')\n",
    "ax.set_title('Model Performance Comparison')\n",
    "ax.set_xticks(x + width * 1.5)\n",
    "ax.set_xticklabels(metrics)\n",
    "ax.legend()\n",
    "#show lot\n",
    "plt.tight_layout()\n",
    "plt.show()\n"
   ]
  },
  {
   "cell_type": "code",
   "execution_count": 12,
   "id": "3eb6f48d-3e79-46d5-b9c4-0f1253690380",
   "metadata": {},
   "outputs": [
    {
     "data": {
      "text/html": [
       "<div>\n",
       "<style scoped>\n",
       "    .dataframe tbody tr th:only-of-type {\n",
       "        vertical-align: middle;\n",
       "    }\n",
       "\n",
       "    .dataframe tbody tr th {\n",
       "        vertical-align: top;\n",
       "    }\n",
       "\n",
       "    .dataframe thead th {\n",
       "        text-align: right;\n",
       "    }\n",
       "</style>\n",
       "<table border=\"1\" class=\"dataframe\">\n",
       "  <thead>\n",
       "    <tr style=\"text-align: right;\">\n",
       "      <th></th>\n",
       "      <th>Model</th>\n",
       "      <th>Accuracy</th>\n",
       "      <th>Precision</th>\n",
       "      <th>Recall</th>\n",
       "      <th>F1-Score</th>\n",
       "    </tr>\n",
       "  </thead>\n",
       "  <tbody>\n",
       "    <tr>\n",
       "      <th>0</th>\n",
       "      <td>Logistic Regression</td>\n",
       "      <td>0.791667</td>\n",
       "      <td>0.800000</td>\n",
       "      <td>0.791667</td>\n",
       "      <td>0.791092</td>\n",
       "    </tr>\n",
       "    <tr>\n",
       "      <th>1</th>\n",
       "      <td>Naive Bayes</td>\n",
       "      <td>0.750000</td>\n",
       "      <td>0.765625</td>\n",
       "      <td>0.750000</td>\n",
       "      <td>0.752778</td>\n",
       "    </tr>\n",
       "    <tr>\n",
       "      <th>2</th>\n",
       "      <td>SVM</td>\n",
       "      <td>0.833333</td>\n",
       "      <td>0.833333</td>\n",
       "      <td>0.833333</td>\n",
       "      <td>0.833333</td>\n",
       "    </tr>\n",
       "    <tr>\n",
       "      <th>3</th>\n",
       "      <td>Random Forest</td>\n",
       "      <td>0.750000</td>\n",
       "      <td>0.750000</td>\n",
       "      <td>0.750000</td>\n",
       "      <td>0.739583</td>\n",
       "    </tr>\n",
       "  </tbody>\n",
       "</table>\n",
       "</div>"
      ],
      "text/plain": [
       "                 Model  Accuracy  Precision    Recall  F1-Score\n",
       "0  Logistic Regression  0.791667   0.800000  0.791667  0.791092\n",
       "1          Naive Bayes  0.750000   0.765625  0.750000  0.752778\n",
       "2                  SVM  0.833333   0.833333  0.833333  0.833333\n",
       "3        Random Forest  0.750000   0.750000  0.750000  0.739583"
      ]
     },
     "execution_count": 12,
     "metadata": {},
     "output_type": "execute_result"
    }
   ],
   "source": [
    "df"
   ]
  },
  {
   "cell_type": "code",
   "execution_count": null,
   "id": "2ee3c2a9-121e-4b68-99da-e3576785ef98",
   "metadata": {},
   "outputs": [],
   "source": []
  }
 ],
 "metadata": {
  "kernelspec": {
   "display_name": "Python 3 (ipykernel)",
   "language": "python",
   "name": "python3"
  },
  "language_info": {
   "codemirror_mode": {
    "name": "ipython",
    "version": 3
   },
   "file_extension": ".py",
   "mimetype": "text/x-python",
   "name": "python",
   "nbconvert_exporter": "python",
   "pygments_lexer": "ipython3",
   "version": "3.9.0"
  }
 },
 "nbformat": 4,
 "nbformat_minor": 5
}
